{
 "cells": [
  {
   "cell_type": "markdown",
   "metadata": {},
   "source": [
    "## Tweet media\n",
    "\n",
    "Does having more media in a tweet lead to more retweets?\n",
    "\n",
    "To find out, we took tweets from @dog_rates from 2015 to 2017. Our criteria for tweets were as follows:\n",
    "- Not a retweet\n",
    "- Contains at least 1 media\n",
    "<img src='rt_count.png'>\n",
    "\n",
    "Taking a quick look at the data, retweet counts range from 0 to about 80000. There are however a large number of outliers.\n",
    "\n",
    "### Media Count\n",
    "\n",
    "Lets dig in deeper to see how the number of media attached affects the retweet count.\n",
    "<img src='media_outliers.png'>\n",
    "\n",
    "It does seem that having more media reduces the maximum amount of retweets, with the exception of having a total of 3 media on a tweet. However, this again contains many outliers. We should take a look at the general performance by taking a closer look at their averages.\n",
    "##### Note: Having 4 media on one tweet is the maximum!\n",
    "<img src='media_nooutliers.png'>\n",
    "Removing outliers, it does seem that having more media leads to having a higher retweet count on average! Infact having more than 1 media almost guarantees that you have as many retweets than the top 75% of tweets that have only 1 media attached.\n",
    "\n"
   ]
  },
  {
   "cell_type": "markdown",
   "metadata": {},
   "source": [
    "### URL Count\n",
    "\n",
    "Some tweets have an extra URL embedded. Most of the URL's embedded here were GoFundMe fundraisers, to raise funds for a dogs surgery.\n",
    "\n",
    "<img src='url_outliers.png'>\n",
    "At first glance, it looks like people didn't retweet to help fundraisers.\n",
    "\n",
    "<img src='url_nooutliers.png'>\n",
    "A deeper look shows that on average, there were more retweets."
   ]
  },
  {
   "cell_type": "markdown",
   "metadata": {},
   "source": [
    "### Media Type\n",
    "Different types of media could be attached to a tweet: an animated gif, a photo, a video.\n",
    "<img src='type_outliers.png'>\n",
    "\n",
    "It seems like videos lead to more retweets than gifs or pictures.\n",
    "<img src='type_nooutliers.png'>\n",
    "\n",
    "But here it seems like gifs actually perform better on average."
   ]
  },
  {
   "cell_type": "markdown",
   "metadata": {},
   "source": [
    "### Summary\n",
    "\n",
    "What media does it take to get more retweets?\n",
    "\n",
    "1. Attach more media\n",
    "2. Share a link for a cause\n",
    "3. Attach videos and gifs instead of just a photo\n",
    "\n",
    "Of course, sometimes all it takes is just one really good photo!\n",
    "\n",
    "##### Note: This was a pretty small sample size of under 2000. Also it is just based on one users tweets and on a specific topic. YMMV!"
   ]
  }
 ],
 "metadata": {
  "kernelspec": {
   "display_name": "Python 3",
   "language": "python",
   "name": "python3"
  },
  "language_info": {
   "codemirror_mode": {
    "name": "ipython",
    "version": 3
   },
   "file_extension": ".py",
   "mimetype": "text/x-python",
   "name": "python",
   "nbconvert_exporter": "python",
   "pygments_lexer": "ipython3",
   "version": "3.5.2"
  }
 },
 "nbformat": 4,
 "nbformat_minor": 2
}

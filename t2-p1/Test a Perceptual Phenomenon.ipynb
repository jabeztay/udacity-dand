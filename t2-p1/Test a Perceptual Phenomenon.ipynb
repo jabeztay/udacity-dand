{
 "cells": [
  {
   "cell_type": "markdown",
   "metadata": {},
   "source": [
    "### Analyzing the Stroop Effect\n",
    "Perform the analysis in the space below. Remember to follow [the instructions](https://docs.google.com/document/d/1-OkpZLjG_kX9J6LIQ5IltsqMzVWjh36QpnP2RYpVdPU/pub?embedded=True) and review the [project rubric](https://review.udacity.com/#!/rubrics/71/view) before submitting. Once you've completed the analysis and write-up, download this file as a PDF or HTML file, upload that PDF/HTML into the workspace here (click on the orange Jupyter icon in the upper left then Upload), then use the Submit Project button at the bottom of this page. This will create a zip file containing both this .ipynb doc and the PDF/HTML doc that will be submitted for your project.\n",
    "\n",
    "\n",
    "(1) What is the independent variable? What is the dependent variable?"
   ]
  },
  {
   "cell_type": "markdown",
   "metadata": {},
   "source": [
    "Independent - if colors are congruent or incongruent\n",
    "\n",
    "Dependent - time taken to name ink colors of a list (equally sized)"
   ]
  },
  {
   "cell_type": "markdown",
   "metadata": {},
   "source": [
    "(2) What is an appropriate set of hypotheses for this task? Specify your null and alternative hypotheses, and clearly define any notation used. Justify your choices."
   ]
  },
  {
   "cell_type": "markdown",
   "metadata": {},
   "source": [
    "$H_0: \\mu_C = \\mu_I$\n",
    "\n",
    "$H_1: \\mu_C < \\mu_I$\n",
    "\n",
    "Null: Mean time taken for both lists is the same \n",
    "\n",
    "Alternative: Mean time to complete incongruent color list is longer than congruent color list \n",
    "\n",
    "$\\mu_C$ is the mean time taken for the congruent list, $\\mu_I$ is the mean time taken for the incongruent list\n",
    "\n",
    "Easier to identify a color if its word is congruent, likely takes longer for the incongruent list as brain processes the meaning of the word as well as the color visually.\n",
    "\n",
    "##### Assumptions\n",
    "\n",
    "1. Dependent variable is continuous/ordinal\n",
    "2. Observations are independent of one another\n",
    "3. Dependent variable is approximately normally distributed\n",
    "4. Homoscedascity\n",
    "\n",
    "Based on the assumptions above, I will be using the paired t-test to determine whether there is a statistically significant difference between the means."
   ]
  },
  {
   "cell_type": "markdown",
   "metadata": {},
   "source": [
    "(3) Report some descriptive statistics regarding this dataset. Include at least one measure of central tendency and at least one measure of variability. The name of the data file is 'stroopdata.csv'."
   ]
  },
  {
   "cell_type": "code",
   "execution_count": 4,
   "metadata": {},
   "outputs": [
    {
     "name": "stdout",
     "output_type": "stream",
     "text": [
      "   Congruent  Incongruent\n",
      "0     12.079       19.278\n",
      "1     16.791       18.741\n",
      "2      9.564       21.214\n",
      "3      8.630       15.687\n",
      "4     14.669       22.803\n",
      "       Congruent  Incongruent\n",
      "count  24.000000    24.000000\n",
      "mean   14.051125    22.015917\n",
      "std     3.559358     4.797057\n",
      "min     8.630000    15.687000\n",
      "25%    11.895250    18.716750\n",
      "50%    14.356500    21.017500\n",
      "75%    16.200750    24.051500\n",
      "max    22.328000    35.255000\n",
      "<class 'pandas.core.frame.DataFrame'>\n",
      "RangeIndex: 24 entries, 0 to 23\n",
      "Data columns (total 2 columns):\n",
      "Congruent      24 non-null float64\n",
      "Incongruent    24 non-null float64\n",
      "dtypes: float64(2)\n",
      "memory usage: 464.0 bytes\n",
      "None\n"
     ]
    },
    {
     "data": {
      "image/png": "[encoded data removed]",
      "text/plain": [
       "<Figure size 432x288 with 1 Axes>"
      ]
     },
     "metadata": {},
     "output_type": "display_data"
    },
    {
     "data": {
      "image/png": "[encoded data removed]",
      "text/plain": [
       "<Figure size 432x288 with 1 Axes>"
      ]
     },
     "metadata": {},
     "output_type": "display_data"
    }
   ],
   "source": [
    "# Perform the analysis here\n",
    "import pandas as pd\n",
    "import matplotlib.pyplot as plt\n",
    "df = pd.read_csv('data/stroopdata.csv')\n",
    "print(df.head())\n",
    "print(df.describe())\n",
    "print(df.info())\n",
    "df.boxplot(column=['Congruent','Incongruent'])\n",
    "plt.show()\n",
    "plt.scatter(x=df['Congruent'],y=df['Incongruent'])\n",
    "plt.xlabel('Congruent')\n",
    "plt.ylabel('Incongruent')\n",
    "plt.show()"
   ]
  },
  {
   "cell_type": "markdown",
   "metadata": {},
   "source": [
    "Sample means:\n",
    "$\\bar{x}_C = 14.05, \\bar{x}_I = 22.02$\n",
    "\n",
    "Sample standard deviations:\n",
    "$s_C = 3.5593, s_I = 4.7971$\n",
    "\n",
    "Difference between sample means is about 8 seconds, suggesting the congruent list takes a shorter time and further supports the hypothesis made.\n",
    "\n",
    "Difference between sample standard deviations is about 1.2 seconds. Could be caused by the two outliers in the incongruent list.\n",
    "\n",
    "Can visually see that the whole IQR of the congruent list is below that of the incongruent list.\n",
    "\n",
    "Also note outliers for the incongruent list.\n"
   ]
  },
  {
   "cell_type": "markdown",
   "metadata": {},
   "source": [
    "(4) Provide one or two visualizations that show the distribution of the sample data. Write one or two sentences noting what you observe about the plot or plots."
   ]
  },
  {
   "cell_type": "code",
   "execution_count": 5,
   "metadata": {},
   "outputs": [
    {
     "data": {
      "image/png": "[encoded data removed]",
      "text/plain": [
       "<Figure size 432x288 with 1 Axes>"
      ]
     },
     "metadata": {},
     "output_type": "display_data"
    },
    {
     "data": {
      "image/png": "[encoded data removed]",
      "text/plain": [
       "<Figure size 432x288 with 1 Axes>"
      ]
     },
     "metadata": {},
     "output_type": "display_data"
    }
   ],
   "source": [
    "# Build the visualizations here\n",
    "\n",
    "plt.hist(x=df['Congruent'])\n",
    "plt.title('Congruent')\n",
    "plt.show()\n",
    "plt.hist(x=df['Incongruent'])\n",
    "plt.title('Incongruent')\n",
    "plt.show()"
   ]
  },
  {
   "cell_type": "markdown",
   "metadata": {},
   "source": [
    "Data seems to be normally distributed, incongruent seems to be more right-skewed than congruent.\n",
    "\n",
    "Mode of congruent is at 14-15seconds, while the mode of incongruent is at 20-21 seconds.\n",
    "Suggesting it is likely for the congruent list to take about 6 seconds less in general."
   ]
  },
  {
   "cell_type": "markdown",
   "metadata": {},
   "source": [
    "(5)  Now, perform the statistical test and report your results. What is your confidence level or Type I error associated with your test? What is your conclusion regarding the hypotheses you set up? Did the results match up with your expectations? **Hint:**  Think about what is being measured on each individual, and what statistic best captures how an individual reacts in each environment."
   ]
  },
  {
   "cell_type": "code",
   "execution_count": 6,
   "metadata": {},
   "outputs": [
    {
     "data": {
      "text/plain": [
       "Ttest_relResult(statistic=-8.020706944109957, pvalue=4.103000585711178e-08)"
      ]
     },
     "execution_count": 6,
     "metadata": {},
     "output_type": "execute_result"
    }
   ],
   "source": [
    "# Perform the statistical test here\n",
    "from scipy.stats import ttest_rel\n",
    "ttest_rel(df['Congruent'],df['Incongruent'])"
   ]
  },
  {
   "cell_type": "markdown",
   "metadata": {},
   "source": [
    "p-value is 0.00000004\n",
    "\n",
    "Testing at 1% level this is is statistically significant, therefore we reject the null hypothesis.\n",
    "There is enough evidence to support that the average time taken on the congruent list is less than that of the incongruent list."
   ]
  },
  {
   "cell_type": "markdown",
   "metadata": {},
   "source": [
    "(6) Optional: What do you think is responsible for the effects observed? Can you think of an alternative or similar task that would result in a similar effect? Some research about the problem will be helpful for thinking about these two questions!"
   ]
  },
  {
   "cell_type": "markdown",
   "metadata": {},
   "source": [
    "Our brains process both the color and meaning of the word since they are taken in at the same time. Since we understand and possibly visualise a color as we read it, we get momentarily confused. It takes a bit more time to process and remember the task at hand is to identify the color of the ink, and not the 'named' color.\n",
    "\n",
    "Couldn't think of similar tasks but on reading the wikipedia article, I recall playing a game on Lumosity where they show a flock of birds, with the center bird facing a different direction from the rest. The aim of the game: to correctly name the direction the center bird is facing. Sounds like a spatial-stroop-task!\n",
    "\n",
    "### Sources\n",
    "1. [Wikipedia: Stroop effect](https://en.wikipedia.org/wiki/Stroop_effect)\n",
    "2. [Wikipedia: Null hypothesis](https://en.wikipedia.org/wiki/Null_hypothesis)\n",
    "3. [Statistical Test Assumptions](http://www.real-statistics.com/descriptive-statistics/assumptions-statistical-test/)\n",
    "4. [T test assumptions](https://www.investopedia.com/ask/answers/073115/what-assumptions-are-made-when-conducting-ttest.asp)\n",
    "5. [Paired Sample T-test](https://www.statisticssolutions.com/manova-analysis-paired-sample-t-test/)"
   ]
  }
 ],
 "metadata": {
  "kernelspec": {
   "display_name": "Python 3",
   "language": "python",
   "name": "python3"
  },
  "language_info": {
   "codemirror_mode": {
    "name": "ipython",
    "version": 3
   },
   "file_extension": ".py",
   "mimetype": "text/x-python",
   "name": "python",
   "nbconvert_exporter": "python",
   "pygments_lexer": "ipython3",
   "version": "3.5.2"
  }
 },
 "nbformat": 4,
 "nbformat_minor": 2
}

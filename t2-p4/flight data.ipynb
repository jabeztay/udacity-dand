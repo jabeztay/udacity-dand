{
 "cells": [
  {
   "cell_type": "code",
   "execution_count": 1,
   "metadata": {},
   "outputs": [],
   "source": [
    "import pandas as pd\n",
    "import numpy as np\n",
    "from glob import glob\n",
    "\n",
    "cols = {\n",
    "    'Year': 'category',\n",
    "    'Month': 'category',\n",
    "    'Dest': 'category',\n",
    "    'Cancelled': float,\n",
    "    'Diverted': float,\n",
    "    'ArrDelay': float,\n",
    "    'CarrierDelay': float,\n",
    "    'WeatherDelay': float,\n",
    "    'NASDelay': float,\n",
    "    'SecurityDelay': float,\n",
    "    'LateAircraftDelay': float\n",
    "}\n",
    "\n",
    "flight_data = []\n",
    "\n",
    "for file in glob('flights/*.csv'):\n",
    "    df = pd.read_csv(file, encoding = 'utf-8', usecols = cols.keys(), dtype = cols)\n",
    "    df['DelayGroup'] = pd.cut(df.ArrDelay, [-np.infty,0,60,120,180,240,300,np.infty])\n",
    "    summary_df = df.groupby(df.Dest).sum()\n",
    "    summary_df['TotalFlights'] = df.groupby(df.Dest).size()\n",
    "    summary_df['Year'] = df.Year[0]\n",
    "    summary_df['Month'] = df.Month[0]\n",
    "    summary_df2 = df.groupby(df.Dest).DelayGroup.value_counts().unstack()\n",
    "    summary_df = pd.concat([summary_df, summary_df2], axis = 1).reset_index()\n",
    "    flight_data.append(summary_df)\n",
    "    \n",
    "flights = pd.concat(flight_data, ignore_index = True)\n",
    "flights.to_csv('data/1.flights3.csv', encoding = 'utf-8', index = False)"
   ]
  },
  {
   "cell_type": "code",
   "execution_count": 2,
   "metadata": {},
   "outputs": [
    {
     "name": "stdout",
     "output_type": "stream",
     "text": [
      "<class 'pandas.core.frame.DataFrame'>\n",
      "RangeIndex: 18233 entries, 0 to 18232\n",
      "Data columns (total 19 columns):\n",
      "Dest                 18233 non-null object\n",
      "ArrDelay             18233 non-null float64\n",
      "Cancelled            18233 non-null float64\n",
      "Diverted             18233 non-null float64\n",
      "CarrierDelay         18233 non-null float64\n",
      "WeatherDelay         18233 non-null float64\n",
      "NASDelay             18233 non-null float64\n",
      "SecurityDelay        18233 non-null float64\n",
      "LateAircraftDelay    18233 non-null float64\n",
      "TotalFlights         18233 non-null int64\n",
      "Year                 18233 non-null object\n",
      "Month                18233 non-null object\n",
      "(-inf, 0.0]          18217 non-null float64\n",
      "(0.0, 60.0]          18190 non-null float64\n",
      "(60.0, 120.0]        16886 non-null float64\n",
      "(120.0, 180.0]       14236 non-null float64\n",
      "(180.0, 240.0]       10817 non-null float64\n",
      "(240.0, 300.0]       7387 non-null float64\n",
      "(300.0, inf]         6926 non-null float64\n",
      "dtypes: float64(15), int64(1), object(3)\n",
      "memory usage: 2.6+ MB\n"
     ]
    }
   ],
   "source": [
    "flights.info()"
   ]
  },
  {
   "cell_type": "code",
   "execution_count": 3,
   "metadata": {},
   "outputs": [],
   "source": [
    "flights.columns = flights.columns.astype(str)"
   ]
  },
  {
   "cell_type": "code",
   "execution_count": 4,
   "metadata": {},
   "outputs": [
    {
     "data": {
      "text/plain": [
       "29300651"
      ]
     },
     "execution_count": 4,
     "metadata": {},
     "output_type": "execute_result"
    }
   ],
   "source": [
    "flights.TotalFlights.sum()"
   ]
  },
  {
   "cell_type": "code",
   "execution_count": 5,
   "metadata": {},
   "outputs": [
    {
     "data": {
      "text/plain": [
       "17960901.0"
      ]
     },
     "execution_count": 5,
     "metadata": {},
     "output_type": "execute_result"
    }
   ],
   "source": [
    "flights['(-inf, 0.0]'].sum()"
   ]
  },
  {
   "cell_type": "code",
   "execution_count": 6,
   "metadata": {},
   "outputs": [
    {
     "data": {
      "text/plain": [
       "9129684.0"
      ]
     },
     "execution_count": 6,
     "metadata": {},
     "output_type": "execute_result"
    }
   ],
   "source": [
    "flights['(0.0, 60.0]'].sum()"
   ]
  },
  {
   "cell_type": "code",
   "execution_count": 7,
   "metadata": {},
   "outputs": [
    {
     "data": {
      "text/plain": [
       "1076919.0"
      ]
     },
     "execution_count": 7,
     "metadata": {},
     "output_type": "execute_result"
    }
   ],
   "source": [
    "flights['(60.0, 120.0]'].sum()"
   ]
  },
  {
   "cell_type": "code",
   "execution_count": 8,
   "metadata": {},
   "outputs": [
    {
     "data": {
      "text/plain": [
       "352520.0"
      ]
     },
     "execution_count": 8,
     "metadata": {},
     "output_type": "execute_result"
    }
   ],
   "source": [
    "flights['(120.0, 180.0]'].sum()"
   ]
  },
  {
   "cell_type": "code",
   "execution_count": 9,
   "metadata": {},
   "outputs": [
    {
     "data": {
      "text/plain": [
       "134070.0"
      ]
     },
     "execution_count": 9,
     "metadata": {},
     "output_type": "execute_result"
    }
   ],
   "source": [
    "flights['(180.0, 240.0]'].sum()"
   ]
  },
  {
   "cell_type": "code",
   "execution_count": 10,
   "metadata": {},
   "outputs": [
    {
     "data": {
      "text/plain": [
       "55555.0"
      ]
     },
     "execution_count": 10,
     "metadata": {},
     "output_type": "execute_result"
    }
   ],
   "source": [
    "flights['(240.0, 300.0]'].sum()"
   ]
  },
  {
   "cell_type": "code",
   "execution_count": 11,
   "metadata": {},
   "outputs": [
    {
     "data": {
      "text/plain": [
       "59602.0"
      ]
     },
     "execution_count": 11,
     "metadata": {},
     "output_type": "execute_result"
    }
   ],
   "source": [
    "flights['(300.0, inf]'].sum()"
   ]
  },
  {
   "cell_type": "code",
   "execution_count": 12,
   "metadata": {},
   "outputs": [
    {
     "data": {
      "text/plain": [
       "461434.0"
      ]
     },
     "execution_count": 12,
     "metadata": {},
     "output_type": "execute_result"
    }
   ],
   "source": [
    "flights.Cancelled.sum()"
   ]
  },
  {
   "cell_type": "code",
   "execution_count": 13,
   "metadata": {},
   "outputs": [
    {
     "data": {
      "text/plain": [
       "69978.0"
      ]
     },
     "execution_count": 13,
     "metadata": {},
     "output_type": "execute_result"
    }
   ],
   "source": [
    "flights.Diverted.sum()"
   ]
  }
 ],
 "metadata": {
  "kernelspec": {
   "display_name": "Python 3",
   "language": "python",
   "name": "python3"
  },
  "language_info": {
   "codemirror_mode": {
    "name": "ipython",
    "version": 3
   },
   "file_extension": ".py",
   "mimetype": "text/x-python",
   "name": "python",
   "nbconvert_exporter": "python",
   "pygments_lexer": "ipython3",
   "version": "3.5.2"
  }
 },
 "nbformat": 4,
 "nbformat_minor": 2
}
